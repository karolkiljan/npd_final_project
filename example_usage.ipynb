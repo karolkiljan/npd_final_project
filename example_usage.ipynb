{
 "cells": [
  {
   "cell_type": "code",
   "execution_count": 18,
   "metadata": {
    "collapsed": true
   },
   "outputs": [
    {
     "name": "stdout",
     "output_type": "stream",
     "text": [
      "Processing ./nypd\r\n",
      "\u001B[33m  DEPRECATION: A future pip version will change local packages to be built in-place without first copying to a temporary directory. We recommend you use --use-feature=in-tree-build to test your packages with this new behavior before it becomes the default.\r\n",
      "   pip 21.3 will remove support for this functionality. You can find discussion regarding this at https://github.com/pypa/pip/issues/7555.\u001B[0m\r\n",
      "Requirement already satisfied: numpy in ./venv/lib/python3.9/site-packages (from nypd==0.1) (1.21.2)\r\n",
      "Requirement already satisfied: pandas in ./venv/lib/python3.9/site-packages (from nypd==0.1) (1.3.2)\r\n",
      "Requirement already satisfied: pytz>=2017.3 in ./venv/lib/python3.9/site-packages (from pandas->nypd==0.1) (2021.1)\r\n",
      "Requirement already satisfied: python-dateutil>=2.7.3 in ./venv/lib/python3.9/site-packages (from pandas->nypd==0.1) (2.8.2)\r\n",
      "Requirement already satisfied: six>=1.5 in ./venv/lib/python3.9/site-packages (from python-dateutil>=2.7.3->pandas->nypd==0.1) (1.16.0)\r\n",
      "Building wheels for collected packages: nypd\r\n",
      "  Building wheel for nypd (setup.py) ... \u001B[?25l-\b \bdone\r\n",
      "\u001B[?25h  Created wheel for nypd: filename=nypd-0.1-py3-none-any.whl size=969 sha256=cc2bbada33e8f13d618873708b586edbeaef3ec383d48668f2f887e8428edf9d\r\n",
      "  Stored in directory: /tmp/pip-ephem-wheel-cache-c4518ehj/wheels/8b/54/31/f4ad4ef9973f95680a18b4540d99a5ce8afcc0a9fed1433b1e\r\n",
      "Successfully built nypd\r\n",
      "Installing collected packages: nypd\r\n",
      "  Attempting uninstall: nypd\r\n",
      "    Found existing installation: nypd 0.1\r\n",
      "    Uninstalling nypd-0.1:\r\n",
      "      Successfully uninstalled nypd-0.1\r\n",
      "Successfully installed nypd-0.1\r\n"
     ]
    }
   ],
   "source": [
    "!pip install ./nypd"
   ]
  },
  {
   "cell_type": "code",
   "execution_count": 19,
   "outputs": [],
   "source": [
    "import pandas as pd\n",
    "from nypd.nypd.prepare import drop_first_row, get_preferred_schools, distribute_teachers_from_zesp, \\\n",
    "    extract_data_from_subsheets, change_age_into_year_of_birth, split_index_into_districts, \\\n",
    "    change_type_of_area_to_float, connect_dataframes\n",
    "from nypd.nypd.calculate import calculate_kids_per_teacher, calculate_statistics_kids_per_teacher, \\\n",
    "    calculate_kids_per_school_by_year, calculate_statistics_for_years\n",
    "import math"
   ],
   "metadata": {
    "collapsed": false,
    "pycharm": {
     "name": "#%%\n"
    }
   }
  },
  {
   "cell_type": "code",
   "execution_count": 20,
   "outputs": [
    {
     "ename": "KeyboardInterrupt",
     "evalue": "",
     "output_type": "error",
     "traceback": [
      "\u001B[0;31m---------------------------------------------------------------------------\u001B[0m",
      "\u001B[0;31mKeyboardInterrupt\u001B[0m                         Traceback (most recent call last)",
      "\u001B[0;32m/tmp/ipykernel_41296/2336447761.py\u001B[0m in \u001B[0;36m<module>\u001B[0;34m\u001B[0m\n\u001B[1;32m      1\u001B[0m \u001B[0;31m#Subtask A\u001B[0m\u001B[0;34m\u001B[0m\u001B[0;34m\u001B[0m\u001B[0;34m\u001B[0m\u001B[0m\n\u001B[0;32m----> 2\u001B[0;31m \u001B[0mdf_schools\u001B[0m \u001B[0;34m=\u001B[0m \u001B[0mpd\u001B[0m\u001B[0;34m.\u001B[0m\u001B[0mread_excel\u001B[0m\u001B[0;34m(\u001B[0m\u001B[0;34m'./data/Wykaz_szkół_i_placówek_wg_stanu_na_30.IX._2018_w.5.xlsx'\u001B[0m\u001B[0;34m)\u001B[0m\u001B[0;34m\u001B[0m\u001B[0;34m\u001B[0m\u001B[0m\n\u001B[0m\u001B[1;32m      3\u001B[0m \u001B[0mdf_schools\u001B[0m \u001B[0;34m=\u001B[0m \u001B[0mdrop_first_row\u001B[0m\u001B[0;34m(\u001B[0m\u001B[0mdf_schools\u001B[0m\u001B[0;34m)\u001B[0m\u001B[0;34m\u001B[0m\u001B[0;34m\u001B[0m\u001B[0m\n\u001B[1;32m      4\u001B[0m \u001B[0;34m\u001B[0m\u001B[0m\n\u001B[1;32m      5\u001B[0m schools = ['Przedszkole', 'Szkoła podstawowa', 'Gimnazjum', 'Sześcioletnia szkoła muzyczna I stopnia',\n",
      "\u001B[0;32m~/PycharmProjects/pythonProject/venv/lib/python3.9/site-packages/pandas/util/_decorators.py\u001B[0m in \u001B[0;36mwrapper\u001B[0;34m(*args, **kwargs)\u001B[0m\n\u001B[1;32m    309\u001B[0m                     \u001B[0mstacklevel\u001B[0m\u001B[0;34m=\u001B[0m\u001B[0mstacklevel\u001B[0m\u001B[0;34m,\u001B[0m\u001B[0;34m\u001B[0m\u001B[0;34m\u001B[0m\u001B[0m\n\u001B[1;32m    310\u001B[0m                 )\n\u001B[0;32m--> 311\u001B[0;31m             \u001B[0;32mreturn\u001B[0m \u001B[0mfunc\u001B[0m\u001B[0;34m(\u001B[0m\u001B[0;34m*\u001B[0m\u001B[0margs\u001B[0m\u001B[0;34m,\u001B[0m \u001B[0;34m**\u001B[0m\u001B[0mkwargs\u001B[0m\u001B[0;34m)\u001B[0m\u001B[0;34m\u001B[0m\u001B[0;34m\u001B[0m\u001B[0m\n\u001B[0m\u001B[1;32m    312\u001B[0m \u001B[0;34m\u001B[0m\u001B[0m\n\u001B[1;32m    313\u001B[0m         \u001B[0;32mreturn\u001B[0m \u001B[0mwrapper\u001B[0m\u001B[0;34m\u001B[0m\u001B[0;34m\u001B[0m\u001B[0m\n",
      "\u001B[0;32m~/PycharmProjects/pythonProject/venv/lib/python3.9/site-packages/pandas/io/excel/_base.py\u001B[0m in \u001B[0;36mread_excel\u001B[0;34m(io, sheet_name, header, names, index_col, usecols, squeeze, dtype, engine, converters, true_values, false_values, skiprows, nrows, na_values, keep_default_na, na_filter, verbose, parse_dates, date_parser, thousands, comment, skipfooter, convert_float, mangle_dupe_cols, storage_options)\u001B[0m\n\u001B[1;32m    370\u001B[0m \u001B[0;34m\u001B[0m\u001B[0m\n\u001B[1;32m    371\u001B[0m     \u001B[0;32mtry\u001B[0m\u001B[0;34m:\u001B[0m\u001B[0;34m\u001B[0m\u001B[0;34m\u001B[0m\u001B[0m\n\u001B[0;32m--> 372\u001B[0;31m         data = io.parse(\n\u001B[0m\u001B[1;32m    373\u001B[0m             \u001B[0msheet_name\u001B[0m\u001B[0;34m=\u001B[0m\u001B[0msheet_name\u001B[0m\u001B[0;34m,\u001B[0m\u001B[0;34m\u001B[0m\u001B[0;34m\u001B[0m\u001B[0m\n\u001B[1;32m    374\u001B[0m             \u001B[0mheader\u001B[0m\u001B[0;34m=\u001B[0m\u001B[0mheader\u001B[0m\u001B[0;34m,\u001B[0m\u001B[0;34m\u001B[0m\u001B[0;34m\u001B[0m\u001B[0m\n",
      "\u001B[0;32m~/PycharmProjects/pythonProject/venv/lib/python3.9/site-packages/pandas/io/excel/_base.py\u001B[0m in \u001B[0;36mparse\u001B[0;34m(self, sheet_name, header, names, index_col, usecols, squeeze, converters, true_values, false_values, skiprows, nrows, na_values, parse_dates, date_parser, thousands, comment, skipfooter, convert_float, mangle_dupe_cols, **kwds)\u001B[0m\n\u001B[1;32m   1270\u001B[0m             \u001B[0mDataFrame\u001B[0m \u001B[0;32mfrom\u001B[0m \u001B[0mthe\u001B[0m \u001B[0mpassed\u001B[0m \u001B[0;32min\u001B[0m \u001B[0mExcel\u001B[0m \u001B[0mfile\u001B[0m\u001B[0;34m.\u001B[0m\u001B[0;34m\u001B[0m\u001B[0;34m\u001B[0m\u001B[0m\n\u001B[1;32m   1271\u001B[0m         \"\"\"\n\u001B[0;32m-> 1272\u001B[0;31m         return self._reader.parse(\n\u001B[0m\u001B[1;32m   1273\u001B[0m             \u001B[0msheet_name\u001B[0m\u001B[0;34m=\u001B[0m\u001B[0msheet_name\u001B[0m\u001B[0;34m,\u001B[0m\u001B[0;34m\u001B[0m\u001B[0;34m\u001B[0m\u001B[0m\n\u001B[1;32m   1274\u001B[0m             \u001B[0mheader\u001B[0m\u001B[0;34m=\u001B[0m\u001B[0mheader\u001B[0m\u001B[0;34m,\u001B[0m\u001B[0;34m\u001B[0m\u001B[0;34m\u001B[0m\u001B[0m\n",
      "\u001B[0;32m~/PycharmProjects/pythonProject/venv/lib/python3.9/site-packages/pandas/io/excel/_base.py\u001B[0m in \u001B[0;36mparse\u001B[0;34m(self, sheet_name, header, names, index_col, usecols, squeeze, dtype, true_values, false_values, skiprows, nrows, na_values, verbose, parse_dates, date_parser, thousands, comment, skipfooter, convert_float, mangle_dupe_cols, **kwds)\u001B[0m\n\u001B[1;32m    537\u001B[0m                 \u001B[0msheet\u001B[0m \u001B[0;34m=\u001B[0m \u001B[0mself\u001B[0m\u001B[0;34m.\u001B[0m\u001B[0mget_sheet_by_index\u001B[0m\u001B[0;34m(\u001B[0m\u001B[0masheetname\u001B[0m\u001B[0;34m)\u001B[0m\u001B[0;34m\u001B[0m\u001B[0;34m\u001B[0m\u001B[0m\n\u001B[1;32m    538\u001B[0m \u001B[0;34m\u001B[0m\u001B[0m\n\u001B[0;32m--> 539\u001B[0;31m             \u001B[0mdata\u001B[0m \u001B[0;34m=\u001B[0m \u001B[0mself\u001B[0m\u001B[0;34m.\u001B[0m\u001B[0mget_sheet_data\u001B[0m\u001B[0;34m(\u001B[0m\u001B[0msheet\u001B[0m\u001B[0;34m,\u001B[0m \u001B[0mconvert_float\u001B[0m\u001B[0;34m)\u001B[0m\u001B[0;34m\u001B[0m\u001B[0;34m\u001B[0m\u001B[0m\n\u001B[0m\u001B[1;32m    540\u001B[0m             \u001B[0;32mif\u001B[0m \u001B[0mhasattr\u001B[0m\u001B[0;34m(\u001B[0m\u001B[0msheet\u001B[0m\u001B[0;34m,\u001B[0m \u001B[0;34m\"close\"\u001B[0m\u001B[0;34m)\u001B[0m\u001B[0;34m:\u001B[0m\u001B[0;34m\u001B[0m\u001B[0;34m\u001B[0m\u001B[0m\n\u001B[1;32m    541\u001B[0m                 \u001B[0;31m# pyxlsb opens two TemporaryFiles\u001B[0m\u001B[0;34m\u001B[0m\u001B[0;34m\u001B[0m\u001B[0;34m\u001B[0m\u001B[0m\n",
      "\u001B[0;32m~/PycharmProjects/pythonProject/venv/lib/python3.9/site-packages/pandas/io/excel/_openpyxl.py\u001B[0m in \u001B[0;36mget_sheet_data\u001B[0;34m(self, sheet, convert_float)\u001B[0m\n\u001B[1;32m    570\u001B[0m         \u001B[0mdata\u001B[0m\u001B[0;34m:\u001B[0m \u001B[0mlist\u001B[0m\u001B[0;34m[\u001B[0m\u001B[0mlist\u001B[0m\u001B[0;34m[\u001B[0m\u001B[0mScalar\u001B[0m\u001B[0;34m]\u001B[0m\u001B[0;34m]\u001B[0m \u001B[0;34m=\u001B[0m \u001B[0;34m[\u001B[0m\u001B[0;34m]\u001B[0m\u001B[0;34m\u001B[0m\u001B[0;34m\u001B[0m\u001B[0m\n\u001B[1;32m    571\u001B[0m         \u001B[0mlast_row_with_data\u001B[0m \u001B[0;34m=\u001B[0m \u001B[0;34m-\u001B[0m\u001B[0;36m1\u001B[0m\u001B[0;34m\u001B[0m\u001B[0;34m\u001B[0m\u001B[0m\n\u001B[0;32m--> 572\u001B[0;31m         \u001B[0;32mfor\u001B[0m \u001B[0mrow_number\u001B[0m\u001B[0;34m,\u001B[0m \u001B[0mrow\u001B[0m \u001B[0;32min\u001B[0m \u001B[0menumerate\u001B[0m\u001B[0;34m(\u001B[0m\u001B[0msheet\u001B[0m\u001B[0;34m.\u001B[0m\u001B[0mrows\u001B[0m\u001B[0;34m)\u001B[0m\u001B[0;34m:\u001B[0m\u001B[0;34m\u001B[0m\u001B[0;34m\u001B[0m\u001B[0m\n\u001B[0m\u001B[1;32m    573\u001B[0m             \u001B[0mconverted_row\u001B[0m \u001B[0;34m=\u001B[0m \u001B[0;34m[\u001B[0m\u001B[0mself\u001B[0m\u001B[0;34m.\u001B[0m\u001B[0m_convert_cell\u001B[0m\u001B[0;34m(\u001B[0m\u001B[0mcell\u001B[0m\u001B[0;34m,\u001B[0m \u001B[0mconvert_float\u001B[0m\u001B[0;34m)\u001B[0m \u001B[0;32mfor\u001B[0m \u001B[0mcell\u001B[0m \u001B[0;32min\u001B[0m \u001B[0mrow\u001B[0m\u001B[0;34m]\u001B[0m\u001B[0;34m\u001B[0m\u001B[0;34m\u001B[0m\u001B[0m\n\u001B[1;32m    574\u001B[0m             \u001B[0;32mwhile\u001B[0m \u001B[0mconverted_row\u001B[0m \u001B[0;32mand\u001B[0m \u001B[0mconverted_row\u001B[0m\u001B[0;34m[\u001B[0m\u001B[0;34m-\u001B[0m\u001B[0;36m1\u001B[0m\u001B[0;34m]\u001B[0m \u001B[0;34m==\u001B[0m \u001B[0;34m\"\"\u001B[0m\u001B[0;34m:\u001B[0m\u001B[0;34m\u001B[0m\u001B[0;34m\u001B[0m\u001B[0m\n",
      "\u001B[0;32m~/PycharmProjects/pythonProject/venv/lib/python3.9/site-packages/openpyxl/worksheet/_read_only.py\u001B[0m in \u001B[0;36m_cells_by_row\u001B[0;34m(self, min_col, min_row, max_col, max_row, values_only)\u001B[0m\n\u001B[1;32m     77\u001B[0m                                  \u001B[0mdata_only\u001B[0m\u001B[0;34m=\u001B[0m\u001B[0mself\u001B[0m\u001B[0;34m.\u001B[0m\u001B[0mparent\u001B[0m\u001B[0;34m.\u001B[0m\u001B[0mdata_only\u001B[0m\u001B[0;34m,\u001B[0m \u001B[0mepoch\u001B[0m\u001B[0;34m=\u001B[0m\u001B[0mself\u001B[0m\u001B[0;34m.\u001B[0m\u001B[0mparent\u001B[0m\u001B[0;34m.\u001B[0m\u001B[0mepoch\u001B[0m\u001B[0;34m,\u001B[0m\u001B[0;34m\u001B[0m\u001B[0;34m\u001B[0m\u001B[0m\n\u001B[1;32m     78\u001B[0m                                  date_formats=self.parent._date_formats)\n\u001B[0;32m---> 79\u001B[0;31m         \u001B[0;32mfor\u001B[0m \u001B[0midx\u001B[0m\u001B[0;34m,\u001B[0m \u001B[0mrow\u001B[0m \u001B[0;32min\u001B[0m \u001B[0mparser\u001B[0m\u001B[0;34m.\u001B[0m\u001B[0mparse\u001B[0m\u001B[0;34m(\u001B[0m\u001B[0;34m)\u001B[0m\u001B[0;34m:\u001B[0m\u001B[0;34m\u001B[0m\u001B[0;34m\u001B[0m\u001B[0m\n\u001B[0m\u001B[1;32m     80\u001B[0m             \u001B[0;32mif\u001B[0m \u001B[0mmax_row\u001B[0m \u001B[0;32mis\u001B[0m \u001B[0;32mnot\u001B[0m \u001B[0;32mNone\u001B[0m \u001B[0;32mand\u001B[0m \u001B[0midx\u001B[0m \u001B[0;34m>\u001B[0m \u001B[0mmax_row\u001B[0m\u001B[0;34m:\u001B[0m\u001B[0;34m\u001B[0m\u001B[0;34m\u001B[0m\u001B[0m\n\u001B[1;32m     81\u001B[0m                 \u001B[0;32mbreak\u001B[0m\u001B[0;34m\u001B[0m\u001B[0;34m\u001B[0m\u001B[0m\n",
      "\u001B[0;32m~/PycharmProjects/pythonProject/venv/lib/python3.9/site-packages/openpyxl/worksheet/_reader.py\u001B[0m in \u001B[0;36mparse\u001B[0;34m(self)\u001B[0m\n\u001B[1;32m    142\u001B[0m         \u001B[0mit\u001B[0m \u001B[0;34m=\u001B[0m \u001B[0miterparse\u001B[0m\u001B[0;34m(\u001B[0m\u001B[0mself\u001B[0m\u001B[0;34m.\u001B[0m\u001B[0msource\u001B[0m\u001B[0;34m)\u001B[0m \u001B[0;31m# add a finaliser to close the source when this becomes possible\u001B[0m\u001B[0;34m\u001B[0m\u001B[0;34m\u001B[0m\u001B[0m\n\u001B[1;32m    143\u001B[0m \u001B[0;34m\u001B[0m\u001B[0m\n\u001B[0;32m--> 144\u001B[0;31m         \u001B[0;32mfor\u001B[0m \u001B[0m_\u001B[0m\u001B[0;34m,\u001B[0m \u001B[0melement\u001B[0m \u001B[0;32min\u001B[0m \u001B[0mit\u001B[0m\u001B[0;34m:\u001B[0m\u001B[0;34m\u001B[0m\u001B[0;34m\u001B[0m\u001B[0m\n\u001B[0m\u001B[1;32m    145\u001B[0m             \u001B[0mtag_name\u001B[0m \u001B[0;34m=\u001B[0m \u001B[0melement\u001B[0m\u001B[0;34m.\u001B[0m\u001B[0mtag\u001B[0m\u001B[0;34m\u001B[0m\u001B[0;34m\u001B[0m\u001B[0m\n\u001B[1;32m    146\u001B[0m             \u001B[0;32mif\u001B[0m \u001B[0mtag_name\u001B[0m \u001B[0;32min\u001B[0m \u001B[0mdispatcher\u001B[0m\u001B[0;34m:\u001B[0m\u001B[0;34m\u001B[0m\u001B[0;34m\u001B[0m\u001B[0m\n",
      "\u001B[0;32m/usr/lib/python3.9/xml/etree/ElementTree.py\u001B[0m in \u001B[0;36miterator\u001B[0;34m()\u001B[0m\n\u001B[1;32m   1257\u001B[0m                 \u001B[0;32mif\u001B[0m \u001B[0;32mnot\u001B[0m \u001B[0mdata\u001B[0m\u001B[0;34m:\u001B[0m\u001B[0;34m\u001B[0m\u001B[0;34m\u001B[0m\u001B[0m\n\u001B[1;32m   1258\u001B[0m                     \u001B[0;32mbreak\u001B[0m\u001B[0;34m\u001B[0m\u001B[0;34m\u001B[0m\u001B[0m\n\u001B[0;32m-> 1259\u001B[0;31m                 \u001B[0mpullparser\u001B[0m\u001B[0;34m.\u001B[0m\u001B[0mfeed\u001B[0m\u001B[0;34m(\u001B[0m\u001B[0mdata\u001B[0m\u001B[0;34m)\u001B[0m\u001B[0;34m\u001B[0m\u001B[0;34m\u001B[0m\u001B[0m\n\u001B[0m\u001B[1;32m   1260\u001B[0m             \u001B[0mroot\u001B[0m \u001B[0;34m=\u001B[0m \u001B[0mpullparser\u001B[0m\u001B[0;34m.\u001B[0m\u001B[0m_close_and_return_root\u001B[0m\u001B[0;34m(\u001B[0m\u001B[0;34m)\u001B[0m\u001B[0;34m\u001B[0m\u001B[0;34m\u001B[0m\u001B[0m\n\u001B[1;32m   1261\u001B[0m             \u001B[0;32myield\u001B[0m \u001B[0;32mfrom\u001B[0m \u001B[0mpullparser\u001B[0m\u001B[0;34m.\u001B[0m\u001B[0mread_events\u001B[0m\u001B[0;34m(\u001B[0m\u001B[0;34m)\u001B[0m\u001B[0;34m\u001B[0m\u001B[0;34m\u001B[0m\u001B[0m\n",
      "\u001B[0;32m/usr/lib/python3.9/xml/etree/ElementTree.py\u001B[0m in \u001B[0;36mfeed\u001B[0;34m(self, data)\u001B[0m\n\u001B[1;32m   1299\u001B[0m         \u001B[0;32mif\u001B[0m \u001B[0mdata\u001B[0m\u001B[0;34m:\u001B[0m\u001B[0;34m\u001B[0m\u001B[0;34m\u001B[0m\u001B[0m\n\u001B[1;32m   1300\u001B[0m             \u001B[0;32mtry\u001B[0m\u001B[0;34m:\u001B[0m\u001B[0;34m\u001B[0m\u001B[0;34m\u001B[0m\u001B[0m\n\u001B[0;32m-> 1301\u001B[0;31m                 \u001B[0mself\u001B[0m\u001B[0;34m.\u001B[0m\u001B[0m_parser\u001B[0m\u001B[0;34m.\u001B[0m\u001B[0mfeed\u001B[0m\u001B[0;34m(\u001B[0m\u001B[0mdata\u001B[0m\u001B[0;34m)\u001B[0m\u001B[0;34m\u001B[0m\u001B[0;34m\u001B[0m\u001B[0m\n\u001B[0m\u001B[1;32m   1302\u001B[0m             \u001B[0;32mexcept\u001B[0m \u001B[0mSyntaxError\u001B[0m \u001B[0;32mas\u001B[0m \u001B[0mexc\u001B[0m\u001B[0;34m:\u001B[0m\u001B[0;34m\u001B[0m\u001B[0;34m\u001B[0m\u001B[0m\n\u001B[1;32m   1303\u001B[0m                 \u001B[0mself\u001B[0m\u001B[0;34m.\u001B[0m\u001B[0m_events_queue\u001B[0m\u001B[0;34m.\u001B[0m\u001B[0mappend\u001B[0m\u001B[0;34m(\u001B[0m\u001B[0mexc\u001B[0m\u001B[0;34m)\u001B[0m\u001B[0;34m\u001B[0m\u001B[0;34m\u001B[0m\u001B[0m\n",
      "\u001B[0;32m/usr/lib/python3.9/xml/etree/ElementTree.py\u001B[0m in \u001B[0;36mfeed\u001B[0;34m(self, data)\u001B[0m\n\u001B[1;32m   1718\u001B[0m         \u001B[0;34m\"\"\"Feed encoded data to parser.\"\"\"\u001B[0m\u001B[0;34m\u001B[0m\u001B[0;34m\u001B[0m\u001B[0m\n\u001B[1;32m   1719\u001B[0m         \u001B[0;32mtry\u001B[0m\u001B[0;34m:\u001B[0m\u001B[0;34m\u001B[0m\u001B[0;34m\u001B[0m\u001B[0m\n\u001B[0;32m-> 1720\u001B[0;31m             \u001B[0mself\u001B[0m\u001B[0;34m.\u001B[0m\u001B[0mparser\u001B[0m\u001B[0;34m.\u001B[0m\u001B[0mParse\u001B[0m\u001B[0;34m(\u001B[0m\u001B[0mdata\u001B[0m\u001B[0;34m,\u001B[0m \u001B[0;32mFalse\u001B[0m\u001B[0;34m)\u001B[0m\u001B[0;34m\u001B[0m\u001B[0;34m\u001B[0m\u001B[0m\n\u001B[0m\u001B[1;32m   1721\u001B[0m         \u001B[0;32mexcept\u001B[0m \u001B[0mself\u001B[0m\u001B[0;34m.\u001B[0m\u001B[0m_error\u001B[0m \u001B[0;32mas\u001B[0m \u001B[0mv\u001B[0m\u001B[0;34m:\u001B[0m\u001B[0;34m\u001B[0m\u001B[0;34m\u001B[0m\u001B[0m\n\u001B[1;32m   1722\u001B[0m             \u001B[0mself\u001B[0m\u001B[0;34m.\u001B[0m\u001B[0m_raiseerror\u001B[0m\u001B[0;34m(\u001B[0m\u001B[0mv\u001B[0m\u001B[0;34m)\u001B[0m\u001B[0;34m\u001B[0m\u001B[0;34m\u001B[0m\u001B[0m\n",
      "\u001B[0;31mKeyboardInterrupt\u001B[0m: "
     ]
    }
   ],
   "source": [
    "#Subtask A\n",
    "df_schools = pd.read_excel('./data/Wykaz_szkół_i_placówek_wg_stanu_na_30.IX._2018_w.5.xlsx')\n",
    "df_schools = drop_first_row(df_schools)\n",
    "\n",
    "schools = ['Przedszkole', 'Szkoła podstawowa', 'Gimnazjum', 'Sześcioletnia szkoła muzyczna I stopnia',\n",
    "                          'Liceum ogólnokształcące', 'Technikum', 'Czteroletnie liceum plastyczne', 'Punkt przedszkolny']\n",
    "\n",
    "df_schools = get_preferred_schools(df_schools, schools)\n",
    "df_schools = distribute_teachers_from_zesp(df_schools)\n",
    "\n",
    "df_schools['Nauczyciele/uczniowie'] = calculate_kids_per_teacher(df_schools)\n",
    "\n",
    "df_result_1 = calculate_statistics_kids_per_teacher(\n",
    "    df_schools,\n",
    "    'Nauczyciele/uczniowie',\n",
    "    ['Gmina', 'woj', 'pow', 'gm', 'Nazwa typu'],\n",
    "    ['min', 'max', 'mean']\n",
    ")\n",
    "df_result_2 = calculate_statistics_kids_per_teacher(\n",
    "    df_schools,\n",
    "    'Nauczyciele/uczniowie',\n",
    "    ['Typ gminy', 'Nazwa typu'],\n",
    "    ['min', 'max', 'mean']\n",
    ")\n",
    "\n",
    "df_result_1.to_csv('./result_kids_per_teacher_a')\n",
    "df_result_2.to_csv('./result_kids_per_teacher_b')"
   ],
   "metadata": {
    "collapsed": false,
    "pycharm": {
     "name": "#%%\n"
    }
   }
  },
  {
   "cell_type": "code",
   "execution_count": null,
   "outputs": [],
   "source": [
    "#Subtask B\n",
    "sheets = pd.ExcelFile('./data/tabela12.xls')\n",
    "df_years = extract_data_from_subsheets(sheets)\n",
    "df_years = change_age_into_year_of_birth(df_years)\n",
    "df_years = split_index_into_districts(df_years)\n",
    "\n",
    "df_schools = change_type_of_area_to_float(df_schools)\n",
    "df_years = change_type_of_area_to_float(df_years)\n",
    "\n",
    "df_merged = connect_dataframes(df_schools, df_years)\n",
    "\n",
    "df_calc_kids_by_year = calculate_kids_per_school_by_year(df_merged)\n",
    "\n",
    "years = [1999, 2000, 2001, 2002, 2003, 2004, 2005, 2006, 2007, 2008, 2009, 2010, 2011, 2012, 2013, 2014, 2015]\n",
    "df_result_B = calculate_statistics_for_years(df_calc_kids_by_year, years, ['Typ gminy'], ['min', 'max', 'mean'])\n",
    "df_result_B.to_csv('./result_kids_per_school')\n",
    "\n"
   ],
   "metadata": {
    "collapsed": false,
    "pycharm": {
     "name": "#%%\n"
    }
   }
  }
 ],
 "metadata": {
  "kernelspec": {
   "display_name": "Python 3",
   "language": "python",
   "name": "python3"
  },
  "language_info": {
   "codemirror_mode": {
    "name": "ipython",
    "version": 2
   },
   "file_extension": ".py",
   "mimetype": "text/x-python",
   "name": "python",
   "nbconvert_exporter": "python",
   "pygments_lexer": "ipython2",
   "version": "2.7.6"
  }
 },
 "nbformat": 4,
 "nbformat_minor": 0
}